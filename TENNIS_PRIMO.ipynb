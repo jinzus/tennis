{
  "nbformat": 4,
  "nbformat_minor": 0,
  "metadata": {
    "colab": {
      "name": "TENNIS_PRIMO.ipynb",
      "provenance": [],
      "collapsed_sections": [],
      "authorship_tag": "ABX9TyNy5vPxsoLmlteS6UT6qZj+",
      "include_colab_link": true
    },
    "kernelspec": {
      "name": "python3",
      "display_name": "Python 3"
    }
  },
  "cells": [
    {
      "cell_type": "markdown",
      "metadata": {
        "id": "view-in-github",
        "colab_type": "text"
      },
      "source": [
        "<a href=\"https://colab.research.google.com/github/jinzus/tennis/blob/main/TENNIS_PRIMO.ipynb\" target=\"_parent\"><img src=\"https://colab.research.google.com/assets/colab-badge.svg\" alt=\"Open In Colab\"/></a>"
      ]
    },
    {
      "cell_type": "code",
      "metadata": {
        "id": "kS1kD1DTH10w"
      },
      "source": [
        "import numpy as np\r\n",
        "import matplotlib.pyplot as plt\r\n",
        "%matplotlib inline"
      ],
      "execution_count": 1,
      "outputs": []
    },
    {
      "cell_type": "code",
      "metadata": {
        "id": "56G6nz2hIrQs"
      },
      "source": [
        "plt.figure(figsize=(10,10))\r\n",
        "tutte_le_simulazioni=[]\r\n",
        "for una in range(9): \r\n",
        "  temporaneo=[]\r\n",
        "  n_simulazioni=1000\r\n",
        "  for item in range(n_simulazioni):\r\n",
        "    media=14\r\n",
        "    sd=3.4\r\n",
        "    items=[0]\r\n",
        "    while np.sum(items)<=2400:\r\n",
        "      gauss=np.random.normal(media,sd)\r\n",
        "      if gauss<1 or gauss>24:\r\n",
        "        continue\r\n",
        "      items.append(gauss)\r\n",
        "\r\n",
        "    somma=0\r\n",
        "    for index in range(len(items)):\r\n",
        "      if somma>2400:\r\n",
        "        break\r\n",
        "      somma+=items[index]\r\n",
        "\r\n",
        "    items=items[1:index]\r\n",
        "    items.append(2400-np.sum(items))\r\n",
        "    items=np.random.permutation(items)\r\n",
        "    temporaneo.append(items)\r\n",
        "\r\n",
        "  simulazioni={\"Simulazione {:d}\".format(key):values for key,values in enumerate(temporaneo)}\r\n",
        "  lunghezze=np.array([len(i) for i in simulazioni.values()])\r\n",
        "\r\n",
        "  np.set_printoptions(suppress=True)\r\n",
        "  indici=np.unique(lunghezze)\r\n",
        "  tabella=np.empty((len(indici),2))\r\n",
        "  for i,item in enumerate(indici):\r\n",
        "    riga=len(lunghezze[lunghezze==item])\r\n",
        "    tabella[i]=np.array([item,riga])\r\n",
        "    \r\n",
        "  probabilità=tabella[:,-1]/n_simulazioni\r\n",
        "  tabella_probabilità=(np.c_[indici,probabilità])\r\n",
        "  plt.subplot(331+una)\r\n",
        "  plt.bar(tabella_probabilità[:,0],tabella_probabilità[:,1])\r\n",
        "  plt.title(f\"Simulazione {una}\")\r\n",
        "  tutte_le_simulazioni.append(simulazioni)"
      ],
      "execution_count": null,
      "outputs": []
    }
  ]
}